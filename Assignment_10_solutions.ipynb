{
 "cells": [
  {
   "cell_type": "markdown",
   "id": "c56d0202",
   "metadata": {},
   "source": [
    "1. How do you distinguish between shutil.copy() and shutil.copytree()?"
   ]
  },
  {
   "cell_type": "markdown",
   "id": "9a399a81",
   "metadata": {},
   "source": [
    "A) \n",
    "shutil.copy() is used to copy the file from source (must be a file) to destination (can be a file or directory). It preserves or assigns the same permissions to the destination file as source file. However, it does not save the metadata information.\n",
    "\n",
    "shutil.copytree() is used to copy the entire source directory to the destination directory. Metadata information of the source file is copied as well."
   ]
  },
  {
   "cell_type": "code",
   "execution_count": 13,
   "id": "1e1cb8d8",
   "metadata": {},
   "outputs": [],
   "source": [
    "import shutil"
   ]
  },
  {
   "cell_type": "code",
   "execution_count": 7,
   "id": "9ff4090e",
   "metadata": {},
   "outputs": [
    {
     "data": {
      "text/plain": [
       "'C:\\\\Users\\\\ANKITA\\\\ank.txt'"
      ]
     },
     "execution_count": 7,
     "metadata": {},
     "output_type": "execute_result"
    }
   ],
   "source": [
    "##copy()\n",
    "\n",
    "\"\"\"same permissions for source and destination\"\"\"\n",
    "\n",
    "src = r'C:\\Users\\ANKITA\\abc.txt'\n",
    "dest = r'C:\\Users\\ANKITA\\ank.txt'\n",
    "shutil.copy(src,dest)"
   ]
  },
  {
   "cell_type": "code",
   "execution_count": 10,
   "id": "ca5f9a59",
   "metadata": {},
   "outputs": [
    {
     "data": {
      "text/plain": [
       "'C:\\\\Users\\\\ANKITA\\\\PycharmProjects\\\\dest'"
      ]
     },
     "execution_count": 10,
     "metadata": {},
     "output_type": "execute_result"
    }
   ],
   "source": [
    "##copytree()\n",
    "\n",
    "\"\"\"copy source directory to destination including metadata information\"\"\"\n",
    "\n",
    "src = r'C:\\Users\\ANKITA\\PycharmProjects'\n",
    "dest = r'C:\\Users\\ANKITA\\PycharmProjects\\dest'\n",
    "shutil.copytree(src, dest)"
   ]
  },
  {
   "cell_type": "markdown",
   "id": "2f18f50e",
   "metadata": {},
   "source": [
    "2. What function is used to rename files?"
   ]
  },
  {
   "cell_type": "markdown",
   "id": "5f65c9b8",
   "metadata": {},
   "source": [
    "A) os.rename() is used to rename a file or a directory."
   ]
  },
  {
   "cell_type": "code",
   "execution_count": 14,
   "id": "cd0b252e",
   "metadata": {},
   "outputs": [],
   "source": [
    "import os\n",
    "src = r'C:\\Users\\ANKITA\\abc.txt'\n",
    "dest = r'C:\\Users\\ANKITA\\datascience.txt\n",
    "os.rename(src,dest)"
   ]
  },
  {
   "cell_type": "markdown",
   "id": "c106eea0",
   "metadata": {},
   "source": [
    "3. What is the difference between the delete functions in the send2trash and shutil modules?"
   ]
  },
  {
   "cell_type": "markdown",
   "id": "f50e135a",
   "metadata": {},
   "source": [
    "A) send2trash will send the files and folders to the computer's recycle bin whereas shutil.rmtree(path) will remove the folder at the given path permanently. All the files and sub folders will also get deleted permanently."
   ]
  },
  {
   "cell_type": "code",
   "execution_count": 19,
   "id": "395682f4",
   "metadata": {},
   "outputs": [],
   "source": [
    "path = r'C:\\Users\\ANKITA\\Documents\\Python Scripts'\n",
    "# shutil.rmtree(path) ## removes the folder python scripts permanently"
   ]
  },
  {
   "cell_type": "code",
   "execution_count": 21,
   "id": "817fe6f7",
   "metadata": {},
   "outputs": [
    {
     "name": "stdout",
     "output_type": "stream",
     "text": [
      "Requirement already satisfied: send2trash in c:\\users\\ankita\\anaconda3\\lib\\site-packages (1.5.0)\n",
      "Note: you may need to restart the kernel to use updated packages.\n"
     ]
    }
   ],
   "source": [
    "pip install send2trash"
   ]
  },
  {
   "cell_type": "code",
   "execution_count": 2,
   "id": "27834d30",
   "metadata": {},
   "outputs": [],
   "source": [
    "import send2trash\n",
    "send2trash.send2trash(r'C:\\Users\\ANKITA\\Welcome.mp3') ## send2trash will send the file Welcome.mp3 to recycle bin"
   ]
  },
  {
   "cell_type": "markdown",
   "id": "b664bd27",
   "metadata": {},
   "source": [
    "4.ZipFile objects have a close() method just like File objects’ close() method. What ZipFile method is equivalent to File objects’ open() method?"
   ]
  },
  {
   "cell_type": "markdown",
   "id": "f063b4e6",
   "metadata": {},
   "source": [
    "A) zipfile.ZipFile() method is equivalent to open() function. To create a ZipFile object, call the ZipFile() function and pass zip file's filename as string"
   ]
  },
  {
   "cell_type": "code",
   "execution_count": 4,
   "id": "df66a429",
   "metadata": {},
   "outputs": [],
   "source": [
    "import zipfile\n",
    "\n",
    "ZipObj = zipfile.ZipFile(r'C:\\Users\\ANKITA\\example.zip')"
   ]
  },
  {
   "cell_type": "code",
   "execution_count": 5,
   "id": "2a7a9074",
   "metadata": {},
   "outputs": [
    {
     "data": {
      "text/plain": [
       "['example/cats/',\n",
       " 'example/cats/cats.txt',\n",
       " 'example/datascience',\n",
       " 'example/dir']"
      ]
     },
     "execution_count": 5,
     "metadata": {},
     "output_type": "execute_result"
    }
   ],
   "source": [
    "ZipObj.namelist()"
   ]
  },
  {
   "cell_type": "code",
   "execution_count": 6,
   "id": "752614fb",
   "metadata": {},
   "outputs": [],
   "source": [
    "ZipObj.close()"
   ]
  },
  {
   "cell_type": "code",
   "execution_count": 6,
   "id": "307c3ea0",
   "metadata": {},
   "outputs": [],
   "source": [
    "# 5. Create a programme that searches a folder tree for files with a certain file extension (such as .pdf or .jpg). \n",
    "# Copy these files from whatever location they are in to a new folder.\n",
    "\n",
    "\n",
    "import os\n",
    "import shutil\n",
    "\n",
    "def SearchCopy(SourcePath,Destination):\n",
    "    \n",
    "    \"\"\" This function searches for PDF files within a folder and copies it to another location\"\"\"\n",
    "    \"\"\"The os.walk function rescursively searches for filenmaes within the directory tree structure and returns a \n",
    "    list of the filenames\"\"\"\n",
    "    \n",
    "    \n",
    "    for directory,dirnames,filenames in os.walk(SourcePath):\n",
    "            for file in filenames:\n",
    "                if file.endswith('.pdf'):\n",
    "                    shutil.copy(os.path.join(directory,file),Destination)\n",
    "                \n",
    "            \n"
   ]
  },
  {
   "cell_type": "code",
   "execution_count": 7,
   "id": "e83f71ae",
   "metadata": {},
   "outputs": [],
   "source": [
    "## call to the function SearchCopy()\n",
    "SearchCopy(\"./Documents/INeuron/Data Science Notes/\", \"./Documents/test/\")"
   ]
  },
  {
   "cell_type": "code",
   "execution_count": null,
   "id": "0536f747",
   "metadata": {},
   "outputs": [],
   "source": []
  }
 ],
 "metadata": {
  "kernelspec": {
   "display_name": "Python 3",
   "language": "python",
   "name": "python3"
  },
  "language_info": {
   "codemirror_mode": {
    "name": "ipython",
    "version": 3
   },
   "file_extension": ".py",
   "mimetype": "text/x-python",
   "name": "python",
   "nbconvert_exporter": "python",
   "pygments_lexer": "ipython3",
   "version": "3.8.8"
  }
 },
 "nbformat": 4,
 "nbformat_minor": 5
}
